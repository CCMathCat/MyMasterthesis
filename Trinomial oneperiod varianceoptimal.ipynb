{
 "cells": [
  {
   "cell_type": "code",
   "execution_count": 2,
   "id": "d46068ba",
   "metadata": {},
   "outputs": [
    {
     "data": {
      "text/plain": [
       "(0.4884729513809633,\n",
       " 0.11099863733696712,\n",
       " 0.30362689548493876,\n",
       " -0.19262825814797163,\n",
       " 0.12209850107066383,\n",
       " array([0.122, 0.487, 0.391]))"
      ]
     },
     "execution_count": 2,
     "metadata": {},
     "output_type": "execute_result"
    }
   ],
   "source": [
    "import numpy as np\n",
    "\n",
    "# Marktparameter\n",
    "S0 = 1.0\n",
    "r = 0.1\n",
    "discount = 1 + r\n",
    "S1_states = np.array([2.0, 1.0, 0.1])\n",
    "probs = np.array([0.2, 0.5, 0.3])\n",
    "K = 1.0\n",
    "\n",
    "# Diskontierte Preise und Payoff\n",
    "tilde_S1 = S1_states / discount\n",
    "tilde_S0 = S0\n",
    "delta_tilde_S1 = tilde_S1 - tilde_S0\n",
    "X = np.maximum(S1_states - K, 0)\n",
    "tilde_X = X / discount\n",
    "\n",
    "# Erwartungswerte unter P\n",
    "E_X = np.sum(tilde_X * probs)\n",
    "E_dS = np.sum(delta_tilde_S1 * probs)\n",
    "E_XdS = np.sum(tilde_X * delta_tilde_S1 * probs)\n",
    "Var_dS = np.sum((delta_tilde_S1 - E_dS) ** 2 * probs)\n",
    "\n",
    "# Kovarianz unter P\n",
    "Cov_X_dS = E_XdS - E_X * E_dS\n",
    "\n",
    "# Optimaler hedge ratio (local risk minimizing)\n",
    "xi_LRM = Cov_X_dS / Var_dS\n",
    "\n",
    "# Minimal martingale measure: Ändere Wahrscheinlichkeiten proportional\n",
    "lambda_t = -E_dS / Var_dS\n",
    "Z = 1 - lambda_t * delta_tilde_S1\n",
    "Q_numerator = probs * Z\n",
    "Q = Q_numerator / np.sum(Q_numerator)\n",
    "\n",
    "# Erwartungswert unter Q für variance-optimal strategy\n",
    "V0_VO = np.sum(tilde_X * Q)\n",
    "xi_VO = np.sum((tilde_X - V0_VO) * delta_tilde_S1 * Q) / np.sum((delta_tilde_S1 ** 2) * Q)\n",
    "xi0_VO = V0_VO - xi_VO * tilde_S0\n",
    "V0_undiscounted = V0_VO * discount\n",
    "\n",
    "xi_LRM, V0_VO, xi_VO, xi0_VO, V0_undiscounted, Q.round(3)\n"
   ]
  },
  {
   "cell_type": "code",
   "execution_count": 3,
   "id": "78624b48",
   "metadata": {},
   "outputs": [
    {
     "name": "stdout",
     "output_type": "stream",
     "text": [
      "Expected discounted payoff (V0_tilde): 0.182\n",
      "Price increment mean (alpha): -0.155\n",
      "Price increment variance (sigma^2): 0.362\n",
      "Covariance: 0.177\n",
      "Optimal hedge ratio xi: 0.489\n",
      "Global quadratic hedging error: 0.0515\n"
     ]
    }
   ],
   "source": [
    "import numpy as np\n",
    "\n",
    "# State probabilities\n",
    "p_u, p_m, p_d = 0.2, 0.5, 0.3\n",
    "\n",
    "# Discounted stock prices\n",
    "S_u, S_m, S_d = 1.818, 0.909, 0.091\n",
    "S_0 = 1.0  # discounted initial stock price\n",
    "\n",
    "# Discounted payoff of call option\n",
    "X_u, X_m, X_d = 0.909, 0.0, 0.0\n",
    "\n",
    "# Discounted price increments\n",
    "dS_u = S_u - S_0\n",
    "dS_m = S_m - S_0\n",
    "dS_d = S_d - S_0\n",
    "\n",
    "# Arrays for vectorized operations\n",
    "probs = np.array([p_u, p_m, p_d])\n",
    "dS = np.array([dS_u, dS_m, dS_d])\n",
    "X = np.array([X_u, X_m, X_d])\n",
    "\n",
    "# Compute mean and variance of discounted price increments\n",
    "alpha = np.sum(probs * dS)\n",
    "sigma2 = np.sum(probs * (dS - alpha)**2)\n",
    "\n",
    "# Expected discounted payoff\n",
    "V0_tilde = np.sum(probs * X)\n",
    "\n",
    "# Covariance between payoff and price increment\n",
    "cov_X_dS = np.sum(probs * (X - V0_tilde) * (dS - alpha))\n",
    "\n",
    "# Optimal hedge ratio (local = variance-optimal here)\n",
    "xi_opt = cov_X_dS / sigma2\n",
    "\n",
    "# Residuals L1\n",
    "L1 = X - xi_opt * dS\n",
    "\n",
    "# Global hedging error: E[(L1 - V0_tilde)^2]\n",
    "global_error = np.sum(probs * (L1 - V0_tilde)**2)\n",
    "\n",
    "# Output\n",
    "print(\"Expected discounted payoff (V0_tilde):\", round(V0_tilde, 3))\n",
    "print(\"Price increment mean (alpha):\", round(alpha, 3))\n",
    "print(\"Price increment variance (sigma^2):\", round(sigma2, 3))\n",
    "print(\"Covariance:\", round(cov_X_dS, 3))\n",
    "print(\"Optimal hedge ratio xi:\", round(xi_opt, 3))\n",
    "print(\"Global quadratic hedging error:\", round(global_error, 4))\n"
   ]
  }
 ],
 "metadata": {
  "kernelspec": {
   "display_name": "Python 3 (ipykernel)",
   "language": "python",
   "name": "python3"
  },
  "language_info": {
   "codemirror_mode": {
    "name": "ipython",
    "version": 3
   },
   "file_extension": ".py",
   "mimetype": "text/x-python",
   "name": "python",
   "nbconvert_exporter": "python",
   "pygments_lexer": "ipython3",
   "version": "3.11.5"
  }
 },
 "nbformat": 4,
 "nbformat_minor": 5
}
