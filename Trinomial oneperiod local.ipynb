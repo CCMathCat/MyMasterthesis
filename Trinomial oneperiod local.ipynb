{
 "cells": [
  {
   "cell_type": "code",
   "execution_count": 1,
   "id": "e06f7a9d",
   "metadata": {},
   "outputs": [
    {
     "name": "stdout",
     "output_type": "stream",
     "text": [
      "Ergebnisse:\n",
      "Erwartungswert Δ~S1: -0.155\n",
      "Erwartungswert ~X: 0.182\n",
      "Kovarianz(~X, Δ~S1): 0.177\n",
      "Varianz(Δ~S1): 0.362\n",
      "Optimaler Aktienanteil ξ₁: 0.488\n",
      "Fairer Preis V0 (diskontiert): 0.182\n",
      "Fairer Preis V0: 0.200\n",
      "Risikofreier Anteil ξ₀⁰: -0.307\n"
     ]
    }
   ],
   "source": [
    "import numpy as np\n",
    "\n",
    "# Marktparameter\n",
    "S0 = 1.0\n",
    "r = 0.1\n",
    "S1_states = np.array([2.0, 1.0, 0.1])\n",
    "probs = np.array([0.2, 0.5, 0.3])\n",
    "K = 1.0\n",
    "\n",
    "# Diskontierter Preis\n",
    "discount = 1 + r\n",
    "tilde_S1 = S1_states / discount\n",
    "tilde_S0 = S0\n",
    "delta_tilde_S1 = tilde_S1 - tilde_S0\n",
    "\n",
    "# Payoff (z.B. Call)\n",
    "X = np.maximum(S1_states - K, 0)\n",
    "tilde_X = X / discount\n",
    "\n",
    "# Erwartungswerte\n",
    "E_dS = np.sum(delta_tilde_S1 * probs)\n",
    "E_X = np.sum(tilde_X * probs)\n",
    "E_XdS = np.sum(tilde_X * delta_tilde_S1 * probs)\n",
    "Var_dS = np.sum((delta_tilde_S1 - E_dS)**2 * probs)\n",
    "\n",
    "# Kovarianz\n",
    "Cov_X_dS = E_XdS - E_X * E_dS\n",
    "\n",
    "# Optimale Strategie\n",
    "xi_opt = Cov_X_dS / Var_dS\n",
    "V0_tilde = E_X\n",
    "V0 = V0_tilde * discount\n",
    "xi0_opt = V0_tilde - xi_opt * tilde_S0\n",
    "\n",
    "\n",
    "print(\"Ergebnisse:\")\n",
    "print(f\"Erwartungswert Δ~S1: {E_dS:.3f}\")\n",
    "print(f\"Erwartungswert ~X: {E_X:.3f}\")\n",
    "print(f\"Kovarianz(~X, Δ~S1): {Cov_X_dS:.3f}\")\n",
    "print(f\"Varianz(Δ~S1): {Var_dS:.3f}\")\n",
    "print(f\"Optimaler Aktienanteil ξ₁: {xi_opt:.3f}\")\n",
    "print(f\"Fairer Preis V0 (diskontiert): {V0_tilde:.3f}\")\n",
    "print(f\"Fairer Preis V0: {V0:.3f}\")\n",
    "print(f\"Risikofreier Anteil ξ₀⁰: {xi0_opt:.3f}\")\n"
   ]
  }
 ],
 "metadata": {
  "kernelspec": {
   "display_name": "Python 3 (ipykernel)",
   "language": "python",
   "name": "python3"
  },
  "language_info": {
   "codemirror_mode": {
    "name": "ipython",
    "version": 3
   },
   "file_extension": ".py",
   "mimetype": "text/x-python",
   "name": "python",
   "nbconvert_exporter": "python",
   "pygments_lexer": "ipython3",
   "version": "3.11.5"
  }
 },
 "nbformat": 4,
 "nbformat_minor": 5
}
